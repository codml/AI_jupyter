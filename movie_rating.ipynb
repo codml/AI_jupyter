{
 "cells": [
  {
   "cell_type": "code",
   "execution_count": 8,
   "id": "96bf2edc-6f1a-41da-8116-a04c281a410f",
   "metadata": {},
   "outputs": [
    {
     "name": "stdout",
     "output_type": "stream",
     "text": [
      "Number of rating 0: 21384032\n",
      "Number of rating 1: 56174\n",
      "Number of rating 2: 107557\n",
      "Number of rating 3: 261197\n",
      "Number of rating 4: 348971\n",
      "Number of rating 5: 226309\n"
     ]
    }
   ],
   "source": [
    "import numpy as np\n",
    "from collections import defaultdict\n",
    "data_path = './ratings.dat'\n",
    "n_users = 6040\n",
    "n_movies = 3706\n",
    "\n",
    "def load_rating_data(data_path, n_users, n_movies):\n",
    "    data = np.zeros([n_users, n_movies], dtype=np.float32)\n",
    "    movie_id_mapping = {}\n",
    "    movie_n_rating = defaultdict(int)\n",
    "    with open(data_path, 'r') as file:\n",
    "        for line in file.readlines()[1:]:\n",
    "            user_id, movie_id, rating, _ = line.split(\"::\")\n",
    "            user_id = int(user_id) - 1\n",
    "            if movie_id not in movie_id_mapping:\n",
    "                movie_id_mapping[movie_id] = len(movie_id_mapping)\n",
    "            rating = int(rating)\n",
    "            data[user_id, movie_id_mapping[movie_id]] = rating\n",
    "            if rating > 0:\n",
    "                movie_n_rating[movie_id] += 1\n",
    "    return data, movie_n_rating, movie_id_mapping\n",
    "\n",
    "data, movie_n_rating, movie_id_mapping = load_rating_data(data_path, n_users, n_movies)\n",
    "\n",
    "def display_distribution(data):\n",
    "    values, counts = np.unique(data, return_counts=True)\n",
    "    for value, count in zip(values, counts):\n",
    "        print(f'Number of rating {int(value)}: {count}')\n",
    "\n",
    "display_distribution(data)"
   ]
  },
  {
   "cell_type": "code",
   "execution_count": 9,
   "id": "67a2b244-4254-4195-92eb-9c07a40e6bb9",
   "metadata": {},
   "outputs": [
    {
     "name": "stdout",
     "output_type": "stream",
     "text": [
      "Movie ID 2858 has 3428 ratings.\n"
     ]
    }
   ],
   "source": [
    "movie_id_most, n_rating_most = sorted(movie_n_rating.items(), key=lambda d: d[1], reverse=True)[0]\n",
    "\n",
    "print(f'Movie ID {movie_id_most} has {n_rating_most} ratings.')"
   ]
  },
  {
   "cell_type": "code",
   "execution_count": 32,
   "id": "62509726-216e-451c-b96a-7899b23c549d",
   "metadata": {},
   "outputs": [
    {
     "name": "stdout",
     "output_type": "stream",
     "text": [
      "Shape of X: (3428, 3705)\n",
      "Shape of Y: (3428,)\n"
     ]
    }
   ],
   "source": [
    "X_raw = np.delete(data, movie_id_mapping[movie_id_most], axis=1)\n",
    "Y_raw = data[:, movie_id_mapping[movie_id_most]]\n",
    "X = X_raw[Y_raw > 0]\n",
    "Y = Y_raw[Y_raw > 0]\n",
    "print('Shape of X:', X.shape)\n",
    "print('Shape of Y:', Y.shape)"
   ]
  },
  {
   "cell_type": "code",
   "execution_count": 33,
   "id": "60a70541-46ee-4aae-9e66-4e84098fcad2",
   "metadata": {},
   "outputs": [
    {
     "name": "stdout",
     "output_type": "stream",
     "text": [
      "Number of rating 1: 83\n",
      "Number of rating 2: 134\n",
      "Number of rating 3: 358\n",
      "Number of rating 4: 890\n",
      "Number of rating 5: 1963\n"
     ]
    }
   ],
   "source": [
    "display_distribution(Y)"
   ]
  },
  {
   "cell_type": "code",
   "execution_count": 34,
   "id": "4b65c069-48b5-44df-a8e1-1d5e29e74f6b",
   "metadata": {},
   "outputs": [
    {
     "name": "stdout",
     "output_type": "stream",
     "text": [
      "2853 positive samples and 575 negative samples.\n"
     ]
    }
   ],
   "source": [
    "recommend = 3\n",
    "Y[Y <= recommend] = 0\n",
    "Y[Y > recommend] = 1\n",
    "n_pos = (Y == 1).sum()\n",
    "n_neg = (Y == 0).sum()\n",
    "print(f'{n_pos} positive samples and {n_neg} negative samples.')"
   ]
  },
  {
   "cell_type": "code",
   "execution_count": 35,
   "id": "63f78055-a7fa-4ec6-ac48-26cc93d5b0e4",
   "metadata": {},
   "outputs": [
    {
     "name": "stdout",
     "output_type": "stream",
     "text": [
      "2742 686\n"
     ]
    }
   ],
   "source": [
    "from sklearn.model_selection import train_test_split\n",
    "X_train, X_test, Y_train, Y_test = train_test_split(X, Y, test_size=0.2, random_state=42)\n",
    "\n",
    "print(len(Y_train), len(Y_test))"
   ]
  },
  {
   "cell_type": "code",
   "execution_count": 37,
   "id": "94a49fb3-1c37-4cfe-9b65-58f4e436c2e4",
   "metadata": {},
   "outputs": [
    {
     "name": "stdout",
     "output_type": "stream",
     "text": [
      "[[7.50487439e-23 1.00000000e+00]\n",
      " [1.01806208e-01 8.98193792e-01]\n",
      " [3.57740570e-10 1.00000000e+00]\n",
      " [1.00000000e+00 2.94095407e-16]\n",
      " [1.00000000e+00 2.49760836e-25]\n",
      " [7.62630220e-01 2.37369780e-01]\n",
      " [3.47479627e-05 9.99965252e-01]\n",
      " [2.66075292e-11 1.00000000e+00]\n",
      " [5.88493563e-10 9.99999999e-01]\n",
      " [9.71326867e-09 9.99999990e-01]]\n"
     ]
    }
   ],
   "source": [
    "from sklearn.naive_bayes import MultinomialNB\n",
    "clf = MultinomialNB(alpha=1.0, fit_prior=True)\n",
    "clf.fit(X_train, Y_train)\n",
    "prediction_prob = clf.predict_proba(X_test)\n",
    "print(prediction_prob[0:10])"
   ]
  },
  {
   "cell_type": "code",
   "execution_count": 38,
   "id": "9d5f5211-7918-4200-8b1c-2087a375cb8d",
   "metadata": {},
   "outputs": [
    {
     "name": "stdout",
     "output_type": "stream",
     "text": [
      "[1. 1. 1. 0. 0. 0. 1. 1. 1. 1.]\n"
     ]
    }
   ],
   "source": [
    "prediction = clf.predict(X_test)\n",
    "print(prediction[:10])"
   ]
  },
  {
   "cell_type": "code",
   "execution_count": 39,
   "id": "997f64f3-63e3-4c02-9904-3d45d211dde6",
   "metadata": {},
   "outputs": [
    {
     "name": "stdout",
     "output_type": "stream",
     "text": [
      "The accuracy is: 71.6%\n"
     ]
    }
   ],
   "source": [
    "accuracy = clf.score(X_test, Y_test)\n",
    "print(f'The accuracy is: {accuracy*100:.1f}%')"
   ]
  },
  {
   "cell_type": "code",
   "execution_count": 40,
   "id": "c18aef19-dba8-4065-b920-d10deb8eb359",
   "metadata": {},
   "outputs": [
    {
     "name": "stdout",
     "output_type": "stream",
     "text": [
      "[[ 60  47]\n",
      " [148 431]]\n"
     ]
    }
   ],
   "source": [
    "# 성능 테스트\n",
    "from sklearn.metrics import confusion_matrix\n",
    "print(confusion_matrix(Y_test, prediction, labels=[0,1]))"
   ]
  },
  {
   "cell_type": "code",
   "execution_count": 41,
   "id": "0197d06a-8d1f-4ebd-a041-de35dbde8968",
   "metadata": {},
   "outputs": [
    {
     "data": {
      "text/plain": [
       "0.9016736401673641"
      ]
     },
     "execution_count": 41,
     "metadata": {},
     "output_type": "execute_result"
    }
   ],
   "source": [
    "from sklearn.metrics import precision_score, recall_score, f1_score\n",
    "precision_score(Y_test, prediction, pos_label=1)"
   ]
  },
  {
   "cell_type": "code",
   "execution_count": 42,
   "id": "923e7518-711e-46b1-a0c5-343a7e4410ac",
   "metadata": {},
   "outputs": [
    {
     "data": {
      "text/plain": [
       "0.7443868739205527"
      ]
     },
     "execution_count": 42,
     "metadata": {},
     "output_type": "execute_result"
    }
   ],
   "source": [
    "recall_score(Y_test, prediction, pos_label=1)"
   ]
  },
  {
   "cell_type": "code",
   "execution_count": 43,
   "id": "23dc3a34-9cae-470b-b848-0dcc32b5c460",
   "metadata": {},
   "outputs": [
    {
     "data": {
      "text/plain": [
       "0.815515610217597"
      ]
     },
     "execution_count": 43,
     "metadata": {},
     "output_type": "execute_result"
    }
   ],
   "source": [
    "f1_score(Y_test, prediction, pos_label=1)"
   ]
  },
  {
   "cell_type": "code",
   "execution_count": 44,
   "id": "5cc804cb-f137-4547-b48f-361705ad2bb0",
   "metadata": {},
   "outputs": [
    {
     "data": {
      "text/plain": [
       "0.38095238095238093"
      ]
     },
     "execution_count": 44,
     "metadata": {},
     "output_type": "execute_result"
    }
   ],
   "source": [
    "f1_score(Y_test, prediction, pos_label=0)"
   ]
  },
  {
   "cell_type": "code",
   "execution_count": 45,
   "id": "6f08c340-a3e3-4d93-9458-44ad8feda7f3",
   "metadata": {},
   "outputs": [
    {
     "name": "stdout",
     "output_type": "stream",
     "text": [
      "              precision    recall  f1-score   support\n",
      "\n",
      "         0.0       0.29      0.56      0.38       107\n",
      "         1.0       0.90      0.74      0.82       579\n",
      "\n",
      "    accuracy                           0.72       686\n",
      "   macro avg       0.60      0.65      0.60       686\n",
      "weighted avg       0.81      0.72      0.75       686\n",
      "\n"
     ]
    }
   ],
   "source": [
    "from sklearn.metrics import classification_report\n",
    "report = classification_report(Y_test, prediction)\n",
    "print(report)"
   ]
  },
  {
   "cell_type": "code",
   "execution_count": 54,
   "id": "ea119787-3c66-4b87-92c1-37204f1d184c",
   "metadata": {},
   "outputs": [
    {
     "data": {
      "image/png": "[encoded data removed]",
      "text/plain": [
       "<Figure size 640x480 with 1 Axes>"
      ]
     },
     "metadata": {},
     "output_type": "display_data"
    }
   ],
   "source": [
    "pos_prob = prediction_prob[:, 1]\n",
    "thresholds = np.arange(0.0, 1.1, 0.05)\n",
    "true_pos, false_pos = [0]*len(thresholds), [0]*len(thresholds)\n",
    "for pred, y in zip(pos_prob, Y_test):\n",
    "    for i, threshold in enumerate(thresholds):\n",
    "        if pred >= threshold:\n",
    "            if y == 1:\n",
    "                true_pos[i] += 1\n",
    "            else:\n",
    "                false_pos[i] += 1\n",
    "        else:\n",
    "            break\n",
    "\n",
    "n_pos_test = (Y_test == 1).sum()\n",
    "n_neg_test = (Y_test == 0).sum()\n",
    "true_pos_rate = [tp / n_pos_test for tp in true_pos]\n",
    "false_pos_rate = [fp / n_neg_test for fp in false_pos]\n",
    "\n",
    "import matplotlib.pyplot as plt\n",
    "\n",
    "plt.figure()\n",
    "lw = 2\n",
    "plt.plot(false_pos_rate, true_pos_rate, color='darkorange', lw=lw)\n",
    "plt.plot([0, 1], [0, 1], color='navy', lw=lw, linestyle='--')\n",
    "plt.xlim([0.0, 1.0])\n",
    "plt.ylim([0.0, 1.05])\n",
    "plt.xlabel('False Positive Rate')\n",
    "plt.ylabel('True Positive Rate')\n",
    "plt.title('Receiver Operating Characteristic')\n",
    "plt.legend(\"lower right\")\n",
    "plt.show()"
   ]
  }
 ],
 "metadata": {
  "kernelspec": {
   "display_name": "Python 3 (ipykernel)",
   "language": "python",
   "name": "python3"
  },
  "language_info": {
   "codemirror_mode": {
    "name": "ipython",
    "version": 3
   },
   "file_extension": ".py",
   "mimetype": "text/x-python",
   "name": "python",
   "nbconvert_exporter": "python",
   "pygments_lexer": "ipython3",
   "version": "3.8.18"
  }
 },
 "nbformat": 4,
 "nbformat_minor": 5
}
