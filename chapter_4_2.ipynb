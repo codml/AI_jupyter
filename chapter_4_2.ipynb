{
  "nbformat": 4,
  "nbformat_minor": 0,
  "metadata": {
    "colab": {
      "provenance": [],
      "gpuType": "T4",
      "authorship_tag": "ABX9TyP7j9k9hwaLsf0d0lGYIM9U",
      "include_colab_link": true
    },
    "kernelspec": {
      "name": "python3",
      "display_name": "Python 3"
    },
    "language_info": {
      "name": "python"
    },
    "accelerator": "GPU"
  },
  "cells": [
    {
      "cell_type": "markdown",
      "metadata": {
        "id": "view-in-github",
        "colab_type": "text"
      },
      "source": [
        "<a href=\"https://colab.research.google.com/github/codml/AI_jupyter/blob/main/chapter_4_2.ipynb\" target=\"_parent\"><img src=\"https://colab.research.google.com/assets/colab-badge.svg\" alt=\"Open In Colab\"/></a>"
      ]
    },
    {
      "cell_type": "code",
      "source": [
        "from tensorflow.keras.datasets import reuters\n",
        "(train_data, train_labels), (test_data, test_labels) = reuters.load_data(num_words=10000)\n",
        "print(len(train_data), len(test_data))"
      ],
      "metadata": {
        "colab": {
          "base_uri": "https://localhost:8080/"
        },
        "id": "Qpi7NGSlM8Nm",
        "outputId": "e5f8b200-a81c-45de-f261-675d2052f79e"
      },
      "execution_count": 5,
      "outputs": [
        {
          "output_type": "stream",
          "name": "stdout",
          "text": [
            "8982 2246\n"
          ]
        }
      ]
    },
    {
      "cell_type": "code",
      "source": [
        "train_data[10]"
      ],
      "metadata": {
        "colab": {
          "base_uri": "https://localhost:8080/"
        },
        "id": "WvoT_3jyOYfp",
        "outputId": "975f84ff-a4f7-4c79-d9ff-8a4970e2952f"
      },
      "execution_count": 6,
      "outputs": [
        {
          "output_type": "execute_result",
          "data": {
            "text/plain": [
              "[1,\n",
              " 245,\n",
              " 273,\n",
              " 207,\n",
              " 156,\n",
              " 53,\n",
              " 74,\n",
              " 160,\n",
              " 26,\n",
              " 14,\n",
              " 46,\n",
              " 296,\n",
              " 26,\n",
              " 39,\n",
              " 74,\n",
              " 2979,\n",
              " 3554,\n",
              " 14,\n",
              " 46,\n",
              " 4689,\n",
              " 4329,\n",
              " 86,\n",
              " 61,\n",
              " 3499,\n",
              " 4795,\n",
              " 14,\n",
              " 61,\n",
              " 451,\n",
              " 4329,\n",
              " 17,\n",
              " 12]"
            ]
          },
          "metadata": {},
          "execution_count": 6
        }
      ]
    },
    {
      "cell_type": "code",
      "source": [
        "word_index = reuters.get_word_index()\n",
        "reverse_word_index = dict(\n",
        "    [(value, key) for (key, value) in word_index.items()]\n",
        ")\n",
        "decoded_newswire = ' '.join(\n",
        "    [reverse_word_index.get(i - 3, '?') for i in train_data[0]]\n",
        ")\n",
        "print(decoded_newswire)"
      ],
      "metadata": {
        "colab": {
          "base_uri": "https://localhost:8080/"
        },
        "id": "ktTJBD2mOgVr",
        "outputId": "9f87cecb-31b5-458b-bfc8-88590f1d9dce"
      },
      "execution_count": 7,
      "outputs": [
        {
          "output_type": "stream",
          "name": "stdout",
          "text": [
            "? ? ? said as a result of its december acquisition of space co it expects earnings per share in 1987 of 1 15 to 1 30 dlrs per share up from 70 cts in 1986 the company said pretax net should rise to nine to 10 mln dlrs from six mln dlrs in 1986 and rental operation revenues to 19 to 22 mln dlrs from 12 5 mln dlrs it said cash flow per share this year should be 2 50 to three dlrs reuter 3\n"
          ]
        }
      ]
    },
    {
      "cell_type": "code",
      "source": [
        "import numpy as np\n",
        "\n",
        "def vectorize_sequences(sequences, dimension=10000):\n",
        "    results = np.zeros((len(sequences), dimension))\n",
        "    for i, sequence in enumerate(sequences):\n",
        "        for j in sequence:\n",
        "            results[i, j] = 1.\n",
        "    return results\n",
        "\n",
        "x_train = vectorize_sequences(train_data)\n",
        "x_test = vectorize_sequences(test_data)\n",
        "\n",
        "# def to_one_hot(labels, dimension=46):\n",
        "#     results = np.zeros(len(labels), dimension)\n",
        "#     for i, label in enumerate(labels):\n",
        "#         results[i, label] = 1.\n",
        "#     return results\n",
        "\n",
        "# y_train = to_one_hot(train_labels)\n",
        "# y_test = to_one_hot(test_labels)\n",
        "\n",
        "from tensorflow import keras\n",
        "\n",
        "from keras.utils import to_categorical\n",
        "\n",
        "y_train = to_categorical(train_labels)\n",
        "y_test = to_categorical(test_labels)\n",
        "\n",
        "from tensorflow.keras import layers\n",
        "\n",
        "model = keras.Sequential([\n",
        "    layers.Dense(64, activation='relu'),\n",
        "    layers.Dense(64, activation='relu'),\n",
        "    layers.Dense(46, activation='softmax')\n",
        "])\n",
        "\n",
        "model.compile(optimizer='rmsprop',\n",
        "              loss='categorical_crossentropy',\n",
        "              metrics=['accuracy'])\n",
        "\n",
        "x_val = x_train[:1000]\n",
        "partial_x_train = x_train[1000:]\n",
        "y_val = y_train[:1000]\n",
        "partial_y_train = y_train[1000:]\n",
        "\n",
        "history = model.fit(partial_x_train,\n",
        "                    partial_y_train,\n",
        "                    epochs=20,\n",
        "                    batch_size=512,\n",
        "                    validation_data=(x_val, y_val))\n",
        "\n",
        "import matplotlib.pyplot as plt\n",
        "\n",
        "loss = history.history['loss']\n",
        "val_loss = history.history['val_loss']\n",
        "epochs=range(1,len(loss) + 1)\n",
        "plt.plot(epochs, loss, 'bo', label='Training loss')\n",
        "plt.plot(epochs, val_loss, 'b', label='Validation loss')\n",
        "plt.title('Training and validation loss')\n",
        "plt.xlabel('Epochs')\n",
        "plt.ylabel('Loss')\n",
        "plt.legend()\n",
        "plt.show()"
      ],
      "metadata": {
        "colab": {
          "base_uri": "https://localhost:8080/",
          "height": 1000
        },
        "id": "5XokSb-UPQWw",
        "outputId": "bb14c773-4641-4ee9-905c-5292b6815f12"
      },
      "execution_count": 9,
      "outputs": [
        {
          "output_type": "stream",
          "name": "stdout",
          "text": [
            "Epoch 1/20\n",
            "16/16 [==============================] - 2s 39ms/step - loss: 2.7759 - accuracy: 0.4846 - val_loss: 1.9316 - val_accuracy: 0.5800\n",
            "Epoch 2/20\n",
            "16/16 [==============================] - 0s 17ms/step - loss: 1.6388 - accuracy: 0.6402 - val_loss: 1.4380 - val_accuracy: 0.6720\n",
            "Epoch 3/20\n",
            "16/16 [==============================] - 0s 19ms/step - loss: 1.2487 - accuracy: 0.7260 - val_loss: 1.2158 - val_accuracy: 0.7290\n",
            "Epoch 4/20\n",
            "16/16 [==============================] - 0s 18ms/step - loss: 1.0255 - accuracy: 0.7767 - val_loss: 1.0899 - val_accuracy: 0.7640\n",
            "Epoch 5/20\n",
            "16/16 [==============================] - 0s 18ms/step - loss: 0.8548 - accuracy: 0.8150 - val_loss: 1.0078 - val_accuracy: 0.7720\n",
            "Epoch 6/20\n",
            "16/16 [==============================] - 0s 18ms/step - loss: 0.7179 - accuracy: 0.8480 - val_loss: 0.9494 - val_accuracy: 0.7820\n",
            "Epoch 7/20\n",
            "16/16 [==============================] - 0s 17ms/step - loss: 0.6025 - accuracy: 0.8748 - val_loss: 0.8994 - val_accuracy: 0.8000\n",
            "Epoch 8/20\n",
            "16/16 [==============================] - 0s 21ms/step - loss: 0.5118 - accuracy: 0.8945 - val_loss: 0.8729 - val_accuracy: 0.8050\n",
            "Epoch 9/20\n",
            "16/16 [==============================] - 0s 17ms/step - loss: 0.4320 - accuracy: 0.9079 - val_loss: 0.8523 - val_accuracy: 0.8100\n",
            "Epoch 10/20\n",
            "16/16 [==============================] - 0s 18ms/step - loss: 0.3675 - accuracy: 0.9228 - val_loss: 0.8558 - val_accuracy: 0.8050\n",
            "Epoch 11/20\n",
            "16/16 [==============================] - 0s 17ms/step - loss: 0.3194 - accuracy: 0.9300 - val_loss: 0.8633 - val_accuracy: 0.8050\n",
            "Epoch 12/20\n",
            "16/16 [==============================] - 0s 19ms/step - loss: 0.2770 - accuracy: 0.9381 - val_loss: 0.8628 - val_accuracy: 0.8030\n",
            "Epoch 13/20\n",
            "16/16 [==============================] - 0s 16ms/step - loss: 0.2413 - accuracy: 0.9458 - val_loss: 0.9115 - val_accuracy: 0.7910\n",
            "Epoch 14/20\n",
            "16/16 [==============================] - 0s 19ms/step - loss: 0.2155 - accuracy: 0.9486 - val_loss: 0.8427 - val_accuracy: 0.8150\n",
            "Epoch 15/20\n",
            "16/16 [==============================] - 0s 18ms/step - loss: 0.1973 - accuracy: 0.9493 - val_loss: 0.8716 - val_accuracy: 0.8150\n",
            "Epoch 16/20\n",
            "16/16 [==============================] - 0s 17ms/step - loss: 0.1838 - accuracy: 0.9526 - val_loss: 0.8822 - val_accuracy: 0.8060\n",
            "Epoch 17/20\n",
            "16/16 [==============================] - 0s 17ms/step - loss: 0.1617 - accuracy: 0.9558 - val_loss: 0.8852 - val_accuracy: 0.8050\n",
            "Epoch 18/20\n",
            "16/16 [==============================] - 0s 17ms/step - loss: 0.1533 - accuracy: 0.9551 - val_loss: 0.8886 - val_accuracy: 0.8170\n",
            "Epoch 19/20\n",
            "16/16 [==============================] - 0s 18ms/step - loss: 0.1461 - accuracy: 0.9548 - val_loss: 0.9459 - val_accuracy: 0.7930\n",
            "Epoch 20/20\n",
            "16/16 [==============================] - 0s 16ms/step - loss: 0.1389 - accuracy: 0.9568 - val_loss: 0.9092 - val_accuracy: 0.8140\n"
          ]
        },
        {
          "output_type": "display_data",
          "data": {
            "text/plain": [
              "<Figure size 640x480 with 1 Axes>"
            ],
            "image/png": "[encoded data removed]"
          },
          "metadata": {}
        }
      ]
    },
    {
      "cell_type": "code",
      "source": [
        "plt.clf()\n",
        "acc = history.history['accuracy']\n",
        "val_acc = history.history['val_accuracy']\n",
        "plt.plot(epochs, acc, 'bo', label=\"Training accuracy\")\n",
        "plt.plot(epochs, val_acc, 'b', label='Validation accuracy')\n",
        "plt.title('Training and validation accuracy')\n",
        "plt.xlabel('Epochs')\n",
        "plt.ylabel('Accuracy')\n",
        "plt.legend()\n",
        "plt.show()"
      ],
      "metadata": {
        "colab": {
          "base_uri": "https://localhost:8080/",
          "height": 472
        },
        "id": "i5SQXk2MjUyQ",
        "outputId": "3269ab6f-4043-4280-de18-81b858f1a64e"
      },
      "execution_count": 11,
      "outputs": [
        {
          "output_type": "display_data",
          "data": {
            "text/plain": [
              "<Figure size 640x480 with 1 Axes>"
            ],
            "image/png": "[encoded data removed]"
          },
          "metadata": {}
        }
      ]
    },
    {
      "cell_type": "code",
      "source": [
        "model = keras.Sequential([\n",
        "    layers.Dense(64, activation='relu'),\n",
        "    layers.Dense(64, activation='relu'),\n",
        "    layers.Dense(46, activation='softmax')\n",
        "])\n",
        "model.compile(optimizer='rmsprop',\n",
        "              loss='categorical_crossentropy',\n",
        "              metrics=['accuracy'])\n",
        "model.fit(x_train,\n",
        "          y_train,\n",
        "          epochs=9,\n",
        "          batch_size=512)\n",
        "results = model.evaluate(x_test, y_test)"
      ],
      "metadata": {
        "colab": {
          "base_uri": "https://localhost:8080/"
        },
        "id": "Sp9vAHmOj9Q8",
        "outputId": "143e09d5-ce03-4b06-b52e-d102bdc33d4a"
      },
      "execution_count": 12,
      "outputs": [
        {
          "output_type": "stream",
          "name": "stdout",
          "text": [
            "Epoch 1/9\n",
            "18/18 [==============================] - 1s 14ms/step - loss: 2.5892 - accuracy: 0.5070\n",
            "Epoch 2/9\n",
            "18/18 [==============================] - 0s 13ms/step - loss: 1.4097 - accuracy: 0.6963\n",
            "Epoch 3/9\n",
            "18/18 [==============================] - 0s 14ms/step - loss: 1.0810 - accuracy: 0.7655\n",
            "Epoch 4/9\n",
            "18/18 [==============================] - 0s 13ms/step - loss: 0.8806 - accuracy: 0.8125\n",
            "Epoch 5/9\n",
            "18/18 [==============================] - 0s 14ms/step - loss: 0.7263 - accuracy: 0.8406\n",
            "Epoch 6/9\n",
            "18/18 [==============================] - 0s 14ms/step - loss: 0.5967 - accuracy: 0.8704\n",
            "Epoch 7/9\n",
            "18/18 [==============================] - 0s 16ms/step - loss: 0.4949 - accuracy: 0.8940\n",
            "Epoch 8/9\n",
            "18/18 [==============================] - 0s 17ms/step - loss: 0.4142 - accuracy: 0.9115\n",
            "Epoch 9/9\n",
            "18/18 [==============================] - 0s 15ms/step - loss: 0.3515 - accuracy: 0.9235\n",
            "71/71 [==============================] - 0s 5ms/step - loss: 0.9088 - accuracy: 0.7823\n"
          ]
        }
      ]
    },
    {
      "cell_type": "code",
      "source": [
        "predictions = model.predict(x_test)\n",
        "print(predictions[0])\n",
        "# y_train = np.array(train_labels)\n",
        "# y_test = np.array(test_labels)\n",
        "# model.compile(optimizer='rmsprop',loss='sparse_categorical_crossentropy',\n",
        "#               metrics=['accuracy']) -> integer tensor!!!"
      ],
      "metadata": {
        "colab": {
          "base_uri": "https://localhost:8080/"
        },
        "id": "rAc6viPjku9M",
        "outputId": "4f1fd3dc-8510-4141-cbb5-393e85c4c449"
      },
      "execution_count": 13,
      "outputs": [
        {
          "output_type": "stream",
          "name": "stdout",
          "text": [
            "71/71 [==============================] - 0s 2ms/step\n",
            "[2.2913602e-05 5.8314334e-05 1.8913757e-05 8.0887282e-01 1.8108866e-01\n",
            " 5.0061817e-06 2.8004858e-04 1.2072465e-05 3.1812994e-03 4.4227901e-04\n",
            " 3.2054293e-06 1.9888146e-04 7.8714336e-05 1.6475875e-04 1.5063501e-04\n",
            " 1.2344985e-05 5.6270458e-04 2.2174443e-05 3.3140554e-05 3.7871226e-04\n",
            " 1.1171021e-03 9.0786861e-04 3.6527781e-06 2.7759655e-04 4.7257952e-05\n",
            " 1.0466563e-04 2.3461233e-05 9.0094392e-05 3.6436904e-06 7.1895440e-05\n",
            " 3.5889403e-05 1.6158157e-04 2.5288171e-05 1.8218574e-05 1.8228158e-04\n",
            " 1.6852142e-05 5.6031964e-05 9.3328614e-05 6.7054134e-05 1.0134411e-03\n",
            " 2.5626699e-05 1.0989160e-05 4.2508538e-05 3.3905676e-06 2.9394650e-06\n",
            " 9.6451040e-06]\n"
          ]
        }
      ]
    },
    {
      "cell_type": "code",
      "source": [
        "model = keras.Sequential([\n",
        "    layers.Dense(32, activation='relu'),\n",
        "    layers.Dense(46, activation='softmax')\n",
        "])\n",
        "model.compile(optimizer='rmsprop',\n",
        "              loss='categorical_crossentropy',\n",
        "              metrics=['accuracy'])\n",
        "model.fit(partial_x_train,\n",
        "          partial_y_train,\n",
        "          epochs=20,\n",
        "          batch_size=128,\n",
        "          validation_data=(x_val, y_val))"
      ],
      "metadata": {
        "colab": {
          "base_uri": "https://localhost:8080/"
        },
        "id": "Xvcl5gUilkcR",
        "outputId": "7d68e727-33d9-44ba-fa6b-b52bc731c9a6"
      },
      "execution_count": 18,
      "outputs": [
        {
          "output_type": "stream",
          "name": "stdout",
          "text": [
            "Epoch 1/20\n",
            "63/63 [==============================] - 1s 10ms/step - loss: 2.2169 - accuracy: 0.5986 - val_loss: 1.5081 - val_accuracy: 0.6700\n",
            "Epoch 2/20\n",
            "63/63 [==============================] - 0s 6ms/step - loss: 1.2067 - accuracy: 0.7467 - val_loss: 1.1354 - val_accuracy: 0.7620\n",
            "Epoch 3/20\n",
            "63/63 [==============================] - 0s 5ms/step - loss: 0.9003 - accuracy: 0.8112 - val_loss: 1.0010 - val_accuracy: 0.7910\n",
            "Epoch 4/20\n",
            "63/63 [==============================] - 0s 6ms/step - loss: 0.7111 - accuracy: 0.8518 - val_loss: 0.9267 - val_accuracy: 0.8090\n",
            "Epoch 5/20\n",
            "63/63 [==============================] - 0s 6ms/step - loss: 0.5737 - accuracy: 0.8802 - val_loss: 0.8691 - val_accuracy: 0.8180\n",
            "Epoch 6/20\n",
            "63/63 [==============================] - 1s 8ms/step - loss: 0.4676 - accuracy: 0.9032 - val_loss: 0.8348 - val_accuracy: 0.8210\n",
            "Epoch 7/20\n",
            "63/63 [==============================] - 1s 8ms/step - loss: 0.3856 - accuracy: 0.9204 - val_loss: 0.8186 - val_accuracy: 0.8240\n",
            "Epoch 8/20\n",
            "63/63 [==============================] - 1s 8ms/step - loss: 0.3232 - accuracy: 0.9332 - val_loss: 0.8036 - val_accuracy: 0.8230\n",
            "Epoch 9/20\n",
            "63/63 [==============================] - 1s 14ms/step - loss: 0.2759 - accuracy: 0.9399 - val_loss: 0.7999 - val_accuracy: 0.8290\n",
            "Epoch 10/20\n",
            "63/63 [==============================] - 1s 15ms/step - loss: 0.2394 - accuracy: 0.9446 - val_loss: 0.8068 - val_accuracy: 0.8250\n",
            "Epoch 11/20\n",
            "63/63 [==============================] - 0s 7ms/step - loss: 0.2120 - accuracy: 0.9484 - val_loss: 0.8258 - val_accuracy: 0.8250\n",
            "Epoch 12/20\n",
            "63/63 [==============================] - 0s 6ms/step - loss: 0.1882 - accuracy: 0.9510 - val_loss: 0.8294 - val_accuracy: 0.8210\n",
            "Epoch 13/20\n",
            "63/63 [==============================] - 0s 5ms/step - loss: 0.1725 - accuracy: 0.9529 - val_loss: 0.8332 - val_accuracy: 0.8220\n",
            "Epoch 14/20\n",
            "63/63 [==============================] - 0s 6ms/step - loss: 0.1579 - accuracy: 0.9549 - val_loss: 0.8467 - val_accuracy: 0.8190\n",
            "Epoch 15/20\n",
            "63/63 [==============================] - 0s 6ms/step - loss: 0.1481 - accuracy: 0.9557 - val_loss: 0.8591 - val_accuracy: 0.8120\n",
            "Epoch 16/20\n",
            "63/63 [==============================] - 0s 6ms/step - loss: 0.1383 - accuracy: 0.9562 - val_loss: 0.8625 - val_accuracy: 0.8170\n",
            "Epoch 17/20\n",
            "63/63 [==============================] - 0s 6ms/step - loss: 0.1328 - accuracy: 0.9582 - val_loss: 0.8770 - val_accuracy: 0.8160\n",
            "Epoch 18/20\n",
            "63/63 [==============================] - 0s 6ms/step - loss: 0.1251 - accuracy: 0.9575 - val_loss: 0.8787 - val_accuracy: 0.8170\n",
            "Epoch 19/20\n",
            "63/63 [==============================] - 0s 6ms/step - loss: 0.1212 - accuracy: 0.9579 - val_loss: 0.8821 - val_accuracy: 0.8190\n",
            "Epoch 20/20\n",
            "63/63 [==============================] - 0s 6ms/step - loss: 0.1169 - accuracy: 0.9577 - val_loss: 0.9309 - val_accuracy: 0.8090\n"
          ]
        },
        {
          "output_type": "execute_result",
          "data": {
            "text/plain": [
              "<keras.src.callbacks.History at 0x785d831dcf70>"
            ]
          },
          "metadata": {},
          "execution_count": 18
        }
      ]
    }
  ]
}