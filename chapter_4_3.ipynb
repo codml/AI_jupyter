{
  "nbformat": 4,
  "nbformat_minor": 0,
  "metadata": {
    "colab": {
      "provenance": [],
      "gpuType": "T4",
      "authorship_tag": "ABX9TyOj/maXIpLgugLB/UlAtaZs",
      "include_colab_link": true
    },
    "kernelspec": {
      "name": "python3",
      "display_name": "Python 3"
    },
    "language_info": {
      "name": "python"
    },
    "accelerator": "GPU"
  },
  "cells": [
    {
      "cell_type": "markdown",
      "metadata": {
        "id": "view-in-github",
        "colab_type": "text"
      },
      "source": [
        "<a href=\"https://colab.research.google.com/github/codml/AI_jupyter/blob/main/chapter_4_3.ipynb\" target=\"_parent\"><img src=\"https://colab.research.google.com/assets/colab-badge.svg\" alt=\"Open In Colab\"/></a>"
      ]
    },
    {
      "cell_type": "code",
      "source": [
        "from tensorflow.keras.datasets import boston_housing\n",
        "\n",
        "(train_data, train_targets), (test_data, test_targets) = (boston_housing.load_data())\n",
        "\n",
        "import numpy as np\n",
        "\n",
        "mean = train_data.mean(axis=0)\n",
        "train_data -= mean\n",
        "std = train_data.std(axis=0)\n",
        "train_data /= std\n",
        "test_data -= mean\n",
        "test_data /= std # 정규화에 쓰이는 평균, 표준편차도 훈련 데이터에서!"
      ],
      "metadata": {
        "colab": {
          "base_uri": "https://localhost:8080/"
        },
        "id": "ftZLzwyRnCIm",
        "outputId": "34d02edd-a66c-4687-fba0-cfd36ed84582"
      },
      "execution_count": 1,
      "outputs": [
        {
          "output_type": "stream",
          "name": "stdout",
          "text": [
            "Downloading data from https://storage.googleapis.com/tensorflow/tf-keras-datasets/boston_housing.npz\n",
            "57026/57026 [==============================] - 0s 0us/step\n"
          ]
        }
      ]
    },
    {
      "cell_type": "code",
      "source": [
        "from tensorflow import keras\n",
        "from keras import layers\n",
        "\n",
        "def build_model():\n",
        "    model = keras.Sequential([\n",
        "        layers.Dense(64, activation='relu'),\n",
        "        layers.Dense(64, activation='relu'),\n",
        "        layers.Dense(1)\n",
        "    ])\n",
        "    model.compile(optimizer='rmsprop', loss='mse', metrics=['mae'])\n",
        "    return model\n",
        "\n",
        "k = 4\n",
        "num_val_samples = len(train_data) // k\n",
        "num_epochs = 100\n",
        "all_scores = []\n",
        "for i in range(k):\n",
        "    print(f'#{i}번째 폴드 처리중')\n",
        "    val_data = train_data[i*num_val_samples: (i+1)*num_val_samples]\n",
        "    val_targets = train_targets[i*num_val_samples: (i+1)*num_val_samples]\n",
        "    partial_train_data = np.concatenate([\n",
        "        train_data[:i*num_val_samples],\n",
        "        train_data[(i+1)*num_val_samples:]\n",
        "    ], axis=0)\n",
        "    partial_train_targets = np.concatenate([\n",
        "        train_targets[:i*num_val_samples],\n",
        "        train_targets[(i+1)*num_val_samples:]\n",
        "    ], axis=0)\n",
        "    model=build_model()\n",
        "    model.fit(partial_train_data, partial_train_targets,\n",
        "              epochs=num_epochs, batch_size=16, verbose=0)\n",
        "    val_mse, val_mae = model.evaluate(val_data, val_targets, verbose=0)\n",
        "    all_scores.append(val_mae)\n",
        "print(f'all scores: {all_scores}')\n",
        "print(f'mean: {np.mean(all_scores)}')"
      ],
      "metadata": {
        "colab": {
          "base_uri": "https://localhost:8080/"
        },
        "id": "ZG8hwncx2T8j",
        "outputId": "bd45037b-d751-4c8e-9681-0615c57b580c"
      },
      "execution_count": 2,
      "outputs": [
        {
          "output_type": "stream",
          "name": "stdout",
          "text": [
            "#0번째 폴드 처리중\n",
            "#1번째 폴드 처리중\n",
            "#2번째 폴드 처리중\n",
            "#3번째 폴드 처리중\n",
            "all scores: [2.0528180599212646, 2.3272979259490967, 2.4405598640441895, 2.351410150527954]\n",
            "mean: 2.293021500110626\n"
          ]
        }
      ]
    },
    {
      "cell_type": "code",
      "source": [
        "num_epochs = 500\n",
        "all_mae_histories = []\n",
        "for i in range(k):\n",
        "    print(f'#{i}번째 폴드 처리중')\n",
        "    val_data = train_data[i*num_val_samples: (i+1)*num_val_samples]\n",
        "    val_targets = train_targets[i*num_val_samples: (i+1)*num_val_samples]\n",
        "    partial_train_data = np.concatenate([\n",
        "        train_data[:i*num_val_samples],\n",
        "        train_data[(i+1)*num_val_samples:]\n",
        "    ], axis=0)\n",
        "    partial_train_targets = np.concatenate([\n",
        "        train_targets[:i*num_val_samples],\n",
        "        train_targets[(i+1)*num_val_samples:]\n",
        "    ], axis=0)\n",
        "    model=build_model()\n",
        "    history = model.fit(partial_train_data, partial_train_targets,\n",
        "                        validation_data=(val_data, val_targets),\n",
        "                        epochs=num_epochs, batch_size=16, verbose=0)\n",
        "    mae_history = history.history['val_mae']\n",
        "    all_mae_histories.append(mae_history)\n",
        "\n",
        "import matplotlib.pyplot as plt\n",
        "\n",
        "average_mae_history = [np.mean([x[i] for x in all_mae_histories]) for i in range(num_epochs)]\n",
        "plt.plot(range(1, len(average_mae_history) + 1), average_mae_history)\n",
        "plt.xlabel('Epochs')\n",
        "plt.ylabel('Validation MAE')\n",
        "plt.show()"
      ],
      "metadata": {
        "colab": {
          "base_uri": "https://localhost:8080/",
          "height": 521
        },
        "id": "f5PHIhKGcnGd",
        "outputId": "0add0c16-b798-44e0-e6d1-5d8662c43d61"
      },
      "execution_count": 3,
      "outputs": [
        {
          "output_type": "stream",
          "name": "stdout",
          "text": [
            "#0번째 폴드 처리중\n",
            "#1번째 폴드 처리중\n",
            "#2번째 폴드 처리중\n",
            "#3번째 폴드 처리중\n"
          ]
        },
        {
          "output_type": "display_data",
          "data": {
            "text/plain": [
              "<Figure size 640x480 with 1 Axes>"
            ],
            "image/png": "[encoded data removed]"
          },
          "metadata": {}
        }
      ]
    }
  ]
}