{
 "cells": [
  {
   "cell_type": "code",
   "execution_count": 9,
   "id": "ab6fef1c-cb6b-4243-bcf1-145df9b0b558",
   "metadata": {},
   "outputs": [
    {
     "name": "stdout",
     "output_type": "stream",
     "text": [
      "label_indices:\n",
      " defaultdict(<class 'list'>, {'Y': [0, 2, 3], 'N': [1]})\n",
      "Prior: {'Y': 0.75, 'N': 0.25}\n",
      "Likelihood:\n",
      " {'Y': array([0.4, 0.6, 0.4]), 'N': array([0.33333333, 0.33333333, 0.66666667])}\n",
      "Posterior:\n",
      " [{'Y': 0.9210360075805433, 'N': 0.07896399241945673}, {'Y': 0.8974148543290932, 'N': 0.10258514567090687}, {'Y': 0.4929006085192697, 'N': 0.5070993914807302}]\n"
     ]
    }
   ],
   "source": [
    "import numpy as np\n",
    "\n",
    "X_train = np.array([\n",
    "    [0, 1, 1],\n",
    "    [0, 0, 1],\n",
    "    [0, 0, 0],\n",
    "    [1, 1, 0]])\n",
    "Y_train = ['Y', 'N', 'Y', 'Y']\n",
    "X_test = np.array([[1, 1, 0], [0, 1, 0]])\n",
    "\n",
    "def get_label_indices(labels):\n",
    "    from collections import defaultdict\n",
    "    label_indices = defaultdict(list)\n",
    "    for index, label in enumerate(labels):\n",
    "        label_indices[label].append(index)\n",
    "    return label_indices\n",
    "\n",
    "label_indices = get_label_indices(Y_train)\n",
    "print('label_indices:\\n', label_indices)\n",
    "\n",
    "def get_prior(label_indices):\n",
    "    prior = {label: len(incides) for label, incides in label_indices.items()}\n",
    "    total_count = sum(prior.values())\n",
    "    for label in prior:\n",
    "        prior[label] /= total_count\n",
    "    return prior\n",
    "\n",
    "prior = get_prior(label_indices)\n",
    "print('Prior:', prior)\n",
    "\n",
    "def get_likelihood(features, label_indices, smoothing=0):\n",
    "    likelihood = {}\n",
    "    for label, indices in label_indices.items():\n",
    "        likelihood[label] = features[indices, :].sum(axis=0) + smoothing\n",
    "        total_count = len(indices)\n",
    "        likelihood[label] = likelihood[label] / (total_count + 2 * smoothing)\n",
    "    return likelihood\n",
    "\n",
    "smoothing = 1\n",
    "likelihood = get_likelihood(X_train, label_indices, smoothing)\n",
    "print('Likelihood:\\n', likelihood)\n",
    "\n",
    "def get_posterior(X, prior, likelihood):\n",
    "    posteriors = []\n",
    "    for x in X:\n",
    "        posterior = prior.copy()\n",
    "        for label, likelihood_label in likelihood.items():\n",
    "            for index, bool_value in enumerate(x):\n",
    "                posterior[label] *= likelihood_label[index] if bool_value else (1 - likelihood_label[index])\n",
    "        sum_posterior = sum(posterior.values())\n",
    "        for label in posterior:\n",
    "            if posterior[label] == float('inf'):\n",
    "                posterior[label] = 1.0\n",
    "            else:\n",
    "                posterior[label] /= sum_posterior\n",
    "        posteriors.append(posterior.copy())\n",
    "    return posteriors\n",
    "\n",
    "posterior = get_posterior(X_test, prior, likelihood)\n",
    "print('Posterior:\\n', posterior)"
   ]
  }
 ],
 "metadata": {
  "kernelspec": {
   "display_name": "Python 3 (ipykernel)",
   "language": "python",
   "name": "python3"
  },
  "language_info": {
   "codemirror_mode": {
    "name": "ipython",
    "version": 3
   },
   "file_extension": ".py",
   "mimetype": "text/x-python",
   "name": "python",
   "nbconvert_exporter": "python",
   "pygments_lexer": "ipython3",
   "version": "3.8.18"
  }
 },
 "nbformat": 4,
 "nbformat_minor": 5
}
